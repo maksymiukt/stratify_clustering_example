{
 "cells": [
  {
   "cell_type": "code",
   "execution_count": 1,
   "id": "35aed252",
   "metadata": {},
   "outputs": [],
   "source": [
    "#!pip install ortools==9.0.9048\n",
    "#!pip install pandas==1.2.4\n",
    "\n",
    "import pandas as pd\n",
    "import seaborn as sns\n",
    "\n",
    "from stratified_k_means_constrained import StratifiedKMeansConstrained\n",
    "from k_means_constrained import KMeansConstrained\n"
   ]
  },
  {
   "cell_type": "code",
   "execution_count": 2,
   "id": "cdd7f656",
   "metadata": {},
   "outputs": [],
   "source": [
    "# LOAD EXAMPLE DATA"
   ]
  },
  {
   "cell_type": "code",
   "execution_count": 3,
   "id": "ce587738",
   "metadata": {},
   "outputs": [],
   "source": [
    "df = pd.read_csv('example.csv', delimiter=';')\n",
    "df = df[df['Latitude']!='#']\n",
    "df['Latitude'] = df['Latitude'].astype('float32')\n",
    "df['Longitude'] = df['Longitude'].astype('float32')\n",
    "df = df.reset_index().drop(columns='index')\n",
    "\n",
    "df2 = df.copy()\n",
    "df_tmp = df.copy()"
   ]
  },
  {
   "cell_type": "code",
   "execution_count": 4,
   "id": "51a7a0e1",
   "metadata": {},
   "outputs": [
    {
     "data": {
      "text/html": [
       "<div>\n",
       "<style scoped>\n",
       "    .dataframe tbody tr th:only-of-type {\n",
       "        vertical-align: middle;\n",
       "    }\n",
       "\n",
       "    .dataframe tbody tr th {\n",
       "        vertical-align: top;\n",
       "    }\n",
       "\n",
       "    .dataframe thead th {\n",
       "        text-align: right;\n",
       "    }\n",
       "</style>\n",
       "<table border=\"1\" class=\"dataframe\">\n",
       "  <thead>\n",
       "    <tr style=\"text-align: right;\">\n",
       "      <th></th>\n",
       "      <th>Account</th>\n",
       "      <th>Area</th>\n",
       "      <th>Kontakt</th>\n",
       "      <th>Kontakt 2</th>\n",
       "      <th>Latitude</th>\n",
       "      <th>Longitude</th>\n",
       "      <th>Segment</th>\n",
       "      <th>Licznik</th>\n",
       "    </tr>\n",
       "  </thead>\n",
       "  <tbody>\n",
       "    <tr>\n",
       "      <th>0</th>\n",
       "      <td>24</td>\n",
       "      <td>OBSZAR 1</td>\n",
       "      <td>KONTAKT BRAK</td>\n",
       "      <td>KONTAKT BRAK</td>\n",
       "      <td>53.380131</td>\n",
       "      <td>22.154110</td>\n",
       "      <td>4</td>\n",
       "      <td>1</td>\n",
       "    </tr>\n",
       "    <tr>\n",
       "      <th>1</th>\n",
       "      <td>118</td>\n",
       "      <td>OBSZAR 1</td>\n",
       "      <td>KONTAKT 2</td>\n",
       "      <td>KONTAKT BRAK</td>\n",
       "      <td>52.989388</td>\n",
       "      <td>22.887564</td>\n",
       "      <td>3</td>\n",
       "      <td>1</td>\n",
       "    </tr>\n",
       "    <tr>\n",
       "      <th>2</th>\n",
       "      <td>119</td>\n",
       "      <td>OBSZAR 1</td>\n",
       "      <td>KONTAKT BRAK</td>\n",
       "      <td>KONTAKT BRAK</td>\n",
       "      <td>52.984379</td>\n",
       "      <td>22.887905</td>\n",
       "      <td>3</td>\n",
       "      <td>1</td>\n",
       "    </tr>\n",
       "    <tr>\n",
       "      <th>3</th>\n",
       "      <td>120</td>\n",
       "      <td>OBSZAR 1</td>\n",
       "      <td>KONTAKT 3</td>\n",
       "      <td>KONTAKT BRAK</td>\n",
       "      <td>53.393509</td>\n",
       "      <td>23.470776</td>\n",
       "      <td>2</td>\n",
       "      <td>1</td>\n",
       "    </tr>\n",
       "    <tr>\n",
       "      <th>4</th>\n",
       "      <td>127</td>\n",
       "      <td>OBSZAR 1</td>\n",
       "      <td>KONTAKT 4</td>\n",
       "      <td>KONTAKT BRAK</td>\n",
       "      <td>53.042900</td>\n",
       "      <td>23.373030</td>\n",
       "      <td>4</td>\n",
       "      <td>1</td>\n",
       "    </tr>\n",
       "  </tbody>\n",
       "</table>\n",
       "</div>"
      ],
      "text/plain": [
       "   Account      Area       Kontakt     Kontakt 2   Latitude  Longitude  \\\n",
       "0       24  OBSZAR 1  KONTAKT BRAK  KONTAKT BRAK  53.380131  22.154110   \n",
       "1      118  OBSZAR 1     KONTAKT 2  KONTAKT BRAK  52.989388  22.887564   \n",
       "2      119  OBSZAR 1  KONTAKT BRAK  KONTAKT BRAK  52.984379  22.887905   \n",
       "3      120  OBSZAR 1     KONTAKT 3  KONTAKT BRAK  53.393509  23.470776   \n",
       "4      127  OBSZAR 1     KONTAKT 4  KONTAKT BRAK  53.042900  23.373030   \n",
       "\n",
       "   Segment  Licznik  \n",
       "0        4        1  \n",
       "1        3        1  \n",
       "2        3        1  \n",
       "3        2        1  \n",
       "4        4        1  "
      ]
     },
     "execution_count": 4,
     "metadata": {},
     "output_type": "execute_result"
    }
   ],
   "source": [
    "df.head()"
   ]
  },
  {
   "cell_type": "code",
   "execution_count": 5,
   "id": "e9e5e403",
   "metadata": {},
   "outputs": [
    {
     "data": {
      "text/plain": [
       "KONTAKT BRAK    1393\n",
       "KONTAKT 7        120\n",
       "KONTAKT 4        119\n",
       "KONTAKT 5        119\n",
       "KONTAKT 3        118\n",
       "KONTAKT 2        109\n",
       "KONTAKT 8        106\n",
       "KONTAKT 6        106\n",
       "KONTAKT 9         32\n",
       "Name: Kontakt, dtype: int64"
      ]
     },
     "execution_count": 5,
     "metadata": {},
     "output_type": "execute_result"
    }
   ],
   "source": [
    "# CURRENT ASSIGMENT TO KONTAKT\n",
    "df['Kontakt'].value_counts()"
   ]
  },
  {
   "cell_type": "code",
   "execution_count": 6,
   "id": "4962c053",
   "metadata": {},
   "outputs": [],
   "source": [
    "# CLUSTERING WITH CLUSTER SIZE AS PARAMETER\n",
    "\n",
    "# PARAMS OF CLUSTERING METHOD\n",
    "clf_tmp = KMeansConstrained(n_clusters=5,       # clusters\n",
    "                        size_min=1,         # min cluster size\n",
    "                        size_max=2222,        # max cluster size\n",
    "                        n_init=10,          # init time\n",
    "                        max_iter=5,       # max iteration num\n",
    "                        tol=0.0001,         # stop for centroids change\n",
    "                        random_state=None,  # random seed for first iteration\n",
    "                        copy_x=True,        # work on data copy\n",
    "                        n_jobs=-1)          # jobs number\n",
    "\n",
    "# CLUSTERING PROCES\n",
    "labels = clf_tmp.fit_predict(df_tmp[['Latitude','Longitude']])\n",
    "labels = pd.DataFrame(labels, columns=['cluster'])\n",
    "\n",
    "# RESULTS\n",
    "df_tmp = pd.concat([df_tmp, labels], axis=1)"
   ]
  },
  {
   "cell_type": "code",
   "execution_count": 18,
   "id": "0f061bf8",
   "metadata": {},
   "outputs": [
    {
     "data": {
      "text/html": [
       "<div>\n",
       "<style scoped>\n",
       "    .dataframe tbody tr th:only-of-type {\n",
       "        vertical-align: middle;\n",
       "    }\n",
       "\n",
       "    .dataframe tbody tr th {\n",
       "        vertical-align: top;\n",
       "    }\n",
       "\n",
       "    .dataframe thead th {\n",
       "        text-align: right;\n",
       "    }\n",
       "</style>\n",
       "<table border=\"1\" class=\"dataframe\">\n",
       "  <thead>\n",
       "    <tr style=\"text-align: right;\">\n",
       "      <th>cluster</th>\n",
       "      <th>0</th>\n",
       "      <th>1</th>\n",
       "      <th>2</th>\n",
       "      <th>3</th>\n",
       "      <th>4</th>\n",
       "      <th>All</th>\n",
       "    </tr>\n",
       "    <tr>\n",
       "      <th>Segment</th>\n",
       "      <th></th>\n",
       "      <th></th>\n",
       "      <th></th>\n",
       "      <th></th>\n",
       "      <th></th>\n",
       "      <th></th>\n",
       "    </tr>\n",
       "  </thead>\n",
       "  <tbody>\n",
       "    <tr>\n",
       "      <th>1</th>\n",
       "      <td>101</td>\n",
       "      <td>125</td>\n",
       "      <td>115</td>\n",
       "      <td>1</td>\n",
       "      <td>227</td>\n",
       "      <td>569</td>\n",
       "    </tr>\n",
       "    <tr>\n",
       "      <th>2</th>\n",
       "      <td>88</td>\n",
       "      <td>115</td>\n",
       "      <td>96</td>\n",
       "      <td>2</td>\n",
       "      <td>241</td>\n",
       "      <td>542</td>\n",
       "    </tr>\n",
       "    <tr>\n",
       "      <th>3</th>\n",
       "      <td>68</td>\n",
       "      <td>128</td>\n",
       "      <td>118</td>\n",
       "      <td>0</td>\n",
       "      <td>244</td>\n",
       "      <td>558</td>\n",
       "    </tr>\n",
       "    <tr>\n",
       "      <th>4</th>\n",
       "      <td>82</td>\n",
       "      <td>116</td>\n",
       "      <td>122</td>\n",
       "      <td>0</td>\n",
       "      <td>233</td>\n",
       "      <td>553</td>\n",
       "    </tr>\n",
       "    <tr>\n",
       "      <th>All</th>\n",
       "      <td>339</td>\n",
       "      <td>484</td>\n",
       "      <td>451</td>\n",
       "      <td>3</td>\n",
       "      <td>945</td>\n",
       "      <td>2222</td>\n",
       "    </tr>\n",
       "  </tbody>\n",
       "</table>\n",
       "</div>"
      ],
      "text/plain": [
       "cluster    0    1    2  3    4   All\n",
       "Segment                             \n",
       "1        101  125  115  1  227   569\n",
       "2         88  115   96  2  241   542\n",
       "3         68  128  118  0  244   558\n",
       "4         82  116  122  0  233   553\n",
       "All      339  484  451  3  945  2222"
      ]
     },
     "execution_count": 18,
     "metadata": {},
     "output_type": "execute_result"
    }
   ],
   "source": [
    "pd.pivot_table(data=df_tmp, index='Segment', columns='cluster', values='Licznik', \n",
    "               aggfunc='sum', margins=True, fill_value=0)"
   ]
  },
  {
   "cell_type": "code",
   "execution_count": 16,
   "id": "f27f8055",
   "metadata": {},
   "outputs": [
    {
     "data": {
      "text/plain": [
       "<AxesSubplot:xlabel='Longitude', ylabel='Latitude'>"
      ]
     },
     "execution_count": 16,
     "metadata": {},
     "output_type": "execute_result"
    },
    {
     "data": {
      "image/png": "[encoded data removed]",
      "text/plain": [
       "<Figure size 432x288 with 1 Axes>"
      ]
     },
     "metadata": {
      "needs_background": "light"
     },
     "output_type": "display_data"
    }
   ],
   "source": [
    "sns.scatterplot(y='Latitude', x='Longitude', data=df_tmp, hue='cluster', palette=\"deep\")"
   ]
  },
  {
   "cell_type": "markdown",
   "id": "2196a771",
   "metadata": {},
   "source": [
    "# Example 1:\n",
    "\n",
    "Create nine clusters with the same size with coordinates as variables"
   ]
  },
  {
   "cell_type": "code",
   "execution_count": 8,
   "id": "c5a70c52",
   "metadata": {},
   "outputs": [],
   "source": [
    "# CLUSTERING WITH CLUSTER SIZE AS PARAMETER\n",
    "\n",
    "# PARAMS OF CLUSTERING METHOD\n",
    "clf = KMeansConstrained(n_clusters=5,       # clusters\n",
    "                        size_min=440,         # min cluster size\n",
    "                        size_max=450,        # max cluster size\n",
    "                        n_init=10,          # init time\n",
    "                        max_iter=5,       # max iteration num\n",
    "                        tol=0.0001,         # stop for centroids change\n",
    "                        random_state=None,  # random seed for first iteration\n",
    "                        copy_x=True,        # work on data copy\n",
    "                        n_jobs=-1)          # jobs number\n",
    "\n",
    "# CLUSTERING PROCES\n",
    "labels = clf.fit_predict(df[['Latitude','Longitude']])\n",
    "labels = pd.DataFrame(labels, columns=['cluster'])\n",
    "\n",
    "# RESULTS\n",
    "df = pd.concat([df, labels], axis=1)"
   ]
  },
  {
   "cell_type": "code",
   "execution_count": 9,
   "id": "6069347b",
   "metadata": {},
   "outputs": [
    {
     "data": {
      "text/html": [
       "<div>\n",
       "<style scoped>\n",
       "    .dataframe tbody tr th:only-of-type {\n",
       "        vertical-align: middle;\n",
       "    }\n",
       "\n",
       "    .dataframe tbody tr th {\n",
       "        vertical-align: top;\n",
       "    }\n",
       "\n",
       "    .dataframe thead th {\n",
       "        text-align: right;\n",
       "    }\n",
       "</style>\n",
       "<table border=\"1\" class=\"dataframe\">\n",
       "  <thead>\n",
       "    <tr style=\"text-align: right;\">\n",
       "      <th>cluster</th>\n",
       "      <th>0</th>\n",
       "      <th>1</th>\n",
       "      <th>2</th>\n",
       "      <th>3</th>\n",
       "      <th>4</th>\n",
       "      <th>All</th>\n",
       "    </tr>\n",
       "    <tr>\n",
       "      <th>Segment</th>\n",
       "      <th></th>\n",
       "      <th></th>\n",
       "      <th></th>\n",
       "      <th></th>\n",
       "      <th></th>\n",
       "      <th></th>\n",
       "    </tr>\n",
       "  </thead>\n",
       "  <tbody>\n",
       "    <tr>\n",
       "      <th>1</th>\n",
       "      <td>111</td>\n",
       "      <td>113</td>\n",
       "      <td>113</td>\n",
       "      <td>126</td>\n",
       "      <td>106</td>\n",
       "      <td>569</td>\n",
       "    </tr>\n",
       "    <tr>\n",
       "      <th>2</th>\n",
       "      <td>113</td>\n",
       "      <td>94</td>\n",
       "      <td>110</td>\n",
       "      <td>121</td>\n",
       "      <td>104</td>\n",
       "      <td>542</td>\n",
       "    </tr>\n",
       "    <tr>\n",
       "      <th>3</th>\n",
       "      <td>120</td>\n",
       "      <td>117</td>\n",
       "      <td>116</td>\n",
       "      <td>88</td>\n",
       "      <td>117</td>\n",
       "      <td>558</td>\n",
       "    </tr>\n",
       "    <tr>\n",
       "      <th>4</th>\n",
       "      <td>106</td>\n",
       "      <td>118</td>\n",
       "      <td>111</td>\n",
       "      <td>105</td>\n",
       "      <td>113</td>\n",
       "      <td>553</td>\n",
       "    </tr>\n",
       "    <tr>\n",
       "      <th>All</th>\n",
       "      <td>450</td>\n",
       "      <td>442</td>\n",
       "      <td>450</td>\n",
       "      <td>440</td>\n",
       "      <td>440</td>\n",
       "      <td>2222</td>\n",
       "    </tr>\n",
       "  </tbody>\n",
       "</table>\n",
       "</div>"
      ],
      "text/plain": [
       "cluster    0    1    2    3    4   All\n",
       "Segment                               \n",
       "1        111  113  113  126  106   569\n",
       "2        113   94  110  121  104   542\n",
       "3        120  117  116   88  117   558\n",
       "4        106  118  111  105  113   553\n",
       "All      450  442  450  440  440  2222"
      ]
     },
     "execution_count": 9,
     "metadata": {},
     "output_type": "execute_result"
    }
   ],
   "source": [
    "pd.pivot_table(data=df, index='Segment', columns='cluster', values='Licznik', aggfunc='sum', margins=True)"
   ]
  },
  {
   "cell_type": "code",
   "execution_count": 10,
   "id": "87d406e2",
   "metadata": {},
   "outputs": [
    {
     "data": {
      "text/plain": [
       "<AxesSubplot:xlabel='Longitude', ylabel='Latitude'>"
      ]
     },
     "execution_count": 10,
     "metadata": {},
     "output_type": "execute_result"
    },
    {
     "data": {
      "image/png": "[encoded data removed]",
      "text/plain": [
       "<Figure size 432x288 with 1 Axes>"
      ]
     },
     "metadata": {
      "needs_background": "light"
     },
     "output_type": "display_data"
    }
   ],
   "source": [
    "sns.scatterplot(y='Latitude', x='Longitude', data=df, hue='cluster', palette=\"deep\")"
   ]
  },
  {
   "cell_type": "markdown",
   "id": "4cce9ea3",
   "metadata": {},
   "source": [
    "# Example 2\n",
    "\n",
    "Create nine clusters with the same size with coordinates as variables,\n",
    "Codnition, each cluster must contains the same structure of 'Segment' "
   ]
  },
  {
   "cell_type": "code",
   "execution_count": 11,
   "id": "19be9dc9",
   "metadata": {},
   "outputs": [],
   "source": [
    "# CLUSTERING WITH CLUSTER SIZE AS PARAMETER WITH AND STRATIFY DATA\n",
    "clf2 = StratifiedKMeansConstrained(n_clusters=5,       # clusters\n",
    "                        size_min=440,                 # min cluster size\n",
    "                        size_max=450,                 # max cluster size\n",
    "                        n_init=100,                    # init time\n",
    "                        max_iter=5,                   # max iteration num\n",
    "                        tol=0.0001,                   # stop for centroids change\n",
    "                        random_state=None,            # random seed for first iteration\n",
    "                        copy_x=True,                  # work on data copy\n",
    "                        n_jobs=-1)                    # jobs number\n"
   ]
  },
  {
   "cell_type": "code",
   "execution_count": 12,
   "id": "db0ac9d0",
   "metadata": {},
   "outputs": [],
   "source": [
    "# CLUSTERING PROCESS\n",
    "labels = clf2.fit_predict(df2[['Latitude','Longitude']], stratifying_var = df2['Segment'])\n",
    "labels = pd.DataFrame(labels, columns=['strat_cluster'])\n",
    "\n",
    "# RESULTS\n",
    "df2 = pd.concat([df2, labels], axis=1)"
   ]
  },
  {
   "cell_type": "code",
   "execution_count": 13,
   "id": "6c2b3f0b",
   "metadata": {},
   "outputs": [
    {
     "data": {
      "text/html": [
       "<div>\n",
       "<style scoped>\n",
       "    .dataframe tbody tr th:only-of-type {\n",
       "        vertical-align: middle;\n",
       "    }\n",
       "\n",
       "    .dataframe tbody tr th {\n",
       "        vertical-align: top;\n",
       "    }\n",
       "\n",
       "    .dataframe thead th {\n",
       "        text-align: right;\n",
       "    }\n",
       "</style>\n",
       "<table border=\"1\" class=\"dataframe\">\n",
       "  <thead>\n",
       "    <tr style=\"text-align: right;\">\n",
       "      <th>strat_cluster</th>\n",
       "      <th>0</th>\n",
       "      <th>1</th>\n",
       "      <th>2</th>\n",
       "      <th>3</th>\n",
       "      <th>4</th>\n",
       "      <th>All</th>\n",
       "    </tr>\n",
       "    <tr>\n",
       "      <th>Segment</th>\n",
       "      <th></th>\n",
       "      <th></th>\n",
       "      <th></th>\n",
       "      <th></th>\n",
       "      <th></th>\n",
       "      <th></th>\n",
       "    </tr>\n",
       "  </thead>\n",
       "  <tbody>\n",
       "    <tr>\n",
       "      <th>1</th>\n",
       "      <td>114</td>\n",
       "      <td>114</td>\n",
       "      <td>114</td>\n",
       "      <td>113</td>\n",
       "      <td>114</td>\n",
       "      <td>569</td>\n",
       "    </tr>\n",
       "    <tr>\n",
       "      <th>2</th>\n",
       "      <td>109</td>\n",
       "      <td>109</td>\n",
       "      <td>109</td>\n",
       "      <td>106</td>\n",
       "      <td>109</td>\n",
       "      <td>542</td>\n",
       "    </tr>\n",
       "    <tr>\n",
       "      <th>3</th>\n",
       "      <td>112</td>\n",
       "      <td>110</td>\n",
       "      <td>112</td>\n",
       "      <td>112</td>\n",
       "      <td>112</td>\n",
       "      <td>558</td>\n",
       "    </tr>\n",
       "    <tr>\n",
       "      <th>4</th>\n",
       "      <td>111</td>\n",
       "      <td>109</td>\n",
       "      <td>111</td>\n",
       "      <td>111</td>\n",
       "      <td>111</td>\n",
       "      <td>553</td>\n",
       "    </tr>\n",
       "    <tr>\n",
       "      <th>All</th>\n",
       "      <td>446</td>\n",
       "      <td>442</td>\n",
       "      <td>446</td>\n",
       "      <td>442</td>\n",
       "      <td>446</td>\n",
       "      <td>2222</td>\n",
       "    </tr>\n",
       "  </tbody>\n",
       "</table>\n",
       "</div>"
      ],
      "text/plain": [
       "strat_cluster    0    1    2    3    4   All\n",
       "Segment                                     \n",
       "1              114  114  114  113  114   569\n",
       "2              109  109  109  106  109   542\n",
       "3              112  110  112  112  112   558\n",
       "4              111  109  111  111  111   553\n",
       "All            446  442  446  442  446  2222"
      ]
     },
     "execution_count": 13,
     "metadata": {},
     "output_type": "execute_result"
    }
   ],
   "source": [
    "pd.pivot_table(data=df2, index='Segment', columns='strat_cluster', values='Licznik', aggfunc='sum', margins=True)"
   ]
  },
  {
   "cell_type": "code",
   "execution_count": 14,
   "id": "7dca703e",
   "metadata": {},
   "outputs": [
    {
     "data": {
      "text/plain": [
       "<AxesSubplot:xlabel='Longitude', ylabel='Latitude'>"
      ]
     },
     "execution_count": 14,
     "metadata": {},
     "output_type": "execute_result"
    },
    {
     "data": {
      "image/png": "[encoded data removed]",
      "text/plain": [
       "<Figure size 432x288 with 1 Axes>"
      ]
     },
     "metadata": {
      "needs_background": "light"
     },
     "output_type": "display_data"
    }
   ],
   "source": [
    "sns.scatterplot(y='Latitude', x='Longitude', data=df2, hue='strat_cluster', palette=\"deep\")"
   ]
  },
  {
   "cell_type": "code",
   "execution_count": null,
   "id": "12742648",
   "metadata": {},
   "outputs": [],
   "source": []
  },
  {
   "cell_type": "code",
   "execution_count": null,
   "id": "f2fe5f67",
   "metadata": {},
   "outputs": [],
   "source": []
  },
  {
   "cell_type": "code",
   "execution_count": null,
   "id": "c515057e",
   "metadata": {},
   "outputs": [],
   "source": []
  }
 ],
 "metadata": {
  "kernelspec": {
   "display_name": "Python 3 (ipykernel)",
   "language": "python",
   "name": "python3"
  },
  "language_info": {
   "codemirror_mode": {
    "name": "ipython",
    "version": 3
   },
   "file_extension": ".py",
   "mimetype": "text/x-python",
   "name": "python",
   "nbconvert_exporter": "python",
   "pygments_lexer": "ipython3",
   "version": "3.9.12"
  }
 },
 "nbformat": 4,
 "nbformat_minor": 5
}
